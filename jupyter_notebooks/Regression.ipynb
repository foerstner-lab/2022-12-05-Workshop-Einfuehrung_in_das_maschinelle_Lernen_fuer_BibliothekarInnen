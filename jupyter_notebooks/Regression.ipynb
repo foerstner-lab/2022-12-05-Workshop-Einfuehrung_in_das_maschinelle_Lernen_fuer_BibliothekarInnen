{
 "cells": [
  {
   "cell_type": "code",
   "execution_count": 1,
   "id": "802884d9",
   "metadata": {},
   "outputs": [],
   "source": [
    "from sklearn.datasets import make_regression"
   ]
  },
  {
   "cell_type": "code",
   "execution_count": 2,
   "id": "5ef5403b",
   "metadata": {},
   "outputs": [],
   "source": [
    "? make_regression"
   ]
  },
  {
   "cell_type": "code",
   "execution_count": 22,
   "id": "912aa426",
   "metadata": {},
   "outputs": [],
   "source": [
    "X_reg, y_reg = make_regression(n_samples=500, n_features=1, noise=20, random_state=1)"
   ]
  },
  {
   "cell_type": "code",
   "execution_count": 4,
   "id": "018a9b26",
   "metadata": {},
   "outputs": [
    {
     "data": {
      "text/plain": [
       "array([[-1.91835552e-01],\n",
       "       [-5.37223024e-01],\n",
       "       [ 5.64382855e-01],\n",
       "       [ 1.93752881e+00],\n",
       "       [ 1.20205486e+00],\n",
       "       [-2.43483776e+00],\n",
       "       [ 2.10025514e+00],\n",
       "       [ 1.00088142e+00],\n",
       "       [-7.67309826e-01],\n",
       "       [-7.77858827e-01],\n",
       "       [-1.09991490e-01],\n",
       "       [-4.48738033e-01],\n",
       "       [ 6.74570707e-01],\n",
       "       [ 1.74481176e+00],\n",
       "       [-2.26314243e-01],\n",
       "       [ 1.62765075e+00],\n",
       "       [ 3.69492716e-01],\n",
       "       [ 8.25029824e-01],\n",
       "       [ 8.65407629e-01],\n",
       "       [ 3.67231814e-01],\n",
       "       [ 7.78211279e-02],\n",
       "       [ 1.04444209e+00],\n",
       "       [ 8.52704062e-01],\n",
       "       [ 5.82815214e-01],\n",
       "       [-6.70662286e-01],\n",
       "       [ 5.92472801e-01],\n",
       "       [ 4.41364444e-01],\n",
       "       [-2.46169559e-02],\n",
       "       [ 1.38877940e+00],\n",
       "       [ 4.77610182e-01],\n",
       "       [ 1.61694960e+00],\n",
       "       [-7.00398505e-01],\n",
       "       [ 1.62284909e+00],\n",
       "       [ 1.04008915e+00],\n",
       "       [ 3.86539145e-01],\n",
       "       [ 2.19069973e+00],\n",
       "       [ 2.11124755e-01],\n",
       "       [ 8.38983414e-01],\n",
       "       [-3.52249846e-01],\n",
       "       [-1.02188594e+00],\n",
       "       [ 2.18697965e+00],\n",
       "       [-1.61577235e+00],\n",
       "       [ 3.15159392e-01],\n",
       "       [ 1.27852808e+00],\n",
       "       [ 6.18539131e-01],\n",
       "       [ 7.63804802e-02],\n",
       "       [-6.65754518e-01],\n",
       "       [-6.46916688e-01],\n",
       "       [ 6.61020288e-01],\n",
       "       [-4.42229280e-01],\n",
       "       [ 1.03882460e+00],\n",
       "       [ 6.02319280e-01],\n",
       "       [ 1.65275673e-02],\n",
       "       [-1.18231813e+00],\n",
       "       [-2.81736269e-01],\n",
       "       [ 4.35968568e-02],\n",
       "       [ 1.33145711e+00],\n",
       "       [-1.35977326e-01],\n",
       "       [ 1.15528789e+00],\n",
       "       [-7.49969617e-01],\n",
       "       [ 6.23362177e-01],\n",
       "       [ 3.15634947e-01],\n",
       "       [-3.96753527e-01],\n",
       "       [ 7.50411640e-01],\n",
       "       [ 3.23527354e-01],\n",
       "       [-9.35769434e-01],\n",
       "       [ 1.60037069e-01],\n",
       "       [-1.74180344e-01],\n",
       "       [-1.21974440e+00],\n",
       "       [ 4.10051647e-01],\n",
       "       [-7.33271604e-01],\n",
       "       [-8.30168864e-01],\n",
       "       [ 2.32494559e-01],\n",
       "       [ 8.40861558e-01],\n",
       "       [-3.26499498e-01],\n",
       "       [ 6.21082701e-01],\n",
       "       [-4.34956683e-01],\n",
       "       [-1.62743834e+00],\n",
       "       [ 1.14690038e+00],\n",
       "       [-9.01634490e-01],\n",
       "       [ 7.21711292e-01],\n",
       "       [-2.66218506e-01],\n",
       "       [-3.22417204e-01],\n",
       "       [-1.10447026e-01],\n",
       "       [ 1.19783084e+00],\n",
       "       [-7.55717130e-02],\n",
       "       [ 3.24274243e-01],\n",
       "       [ 7.73400683e-02],\n",
       "       [ 3.00170320e-01],\n",
       "       [-2.30839743e-01],\n",
       "       [-1.23685338e+00],\n",
       "       [-1.26645989e-02],\n",
       "       [-8.26097432e-01],\n",
       "       [ 8.84908814e-01],\n",
       "       [-1.09491185e+00],\n",
       "       [ 1.86647138e+00],\n",
       "       [-8.67768678e-01],\n",
       "       [-9.53700602e-01],\n",
       "       [-8.51455657e-01],\n",
       "       [ 1.09899633e+00],\n",
       "       [ 1.98299720e-01],\n",
       "       [-1.16017010e+00],\n",
       "       [-8.80577600e-01],\n",
       "       [ 1.11105670e+00],\n",
       "       [-6.94920901e-01],\n",
       "       [-4.79184915e-01],\n",
       "       [ 7.58805660e-01],\n",
       "       [ 5.20576337e-01],\n",
       "       [-2.02220122e+00],\n",
       "       [ 1.90915485e-01],\n",
       "       [ 9.01486892e-01],\n",
       "       [-5.32234021e-01],\n",
       "       [ 1.33526763e-02],\n",
       "       [-8.87628964e-01],\n",
       "       [-2.79097722e-01],\n",
       "       [-1.09989127e+00],\n",
       "       [-2.96641152e-01],\n",
       "       [ 5.08077548e-02],\n",
       "       [ 4.50155513e-01],\n",
       "       [-6.38730407e-01],\n",
       "       [ 8.01861032e-01],\n",
       "       [ 6.30195671e-01],\n",
       "       [-1.30653407e+00],\n",
       "       [ 1.37701210e-01],\n",
       "       [-6.03920628e-01],\n",
       "       [-3.74804687e-01],\n",
       "       [ 5.03184813e-01],\n",
       "       [ 1.25286816e+00],\n",
       "       [-7.25597119e-01],\n",
       "       [ 1.77187720e-01],\n",
       "       [ 8.75838928e-01],\n",
       "       [ 9.31102081e-01],\n",
       "       [ 6.18380262e-01],\n",
       "       [ 2.13533901e-01],\n",
       "       [-6.61344243e-01],\n",
       "       [-3.10984978e-01],\n",
       "       [-6.18036848e-01],\n",
       "       [-4.47128565e-01],\n",
       "       [ 2.05462410e+00],\n",
       "       [-7.54397941e-01],\n",
       "       [ 3.50545979e-01],\n",
       "       [ 1.45142926e+00],\n",
       "       [ 7.27813500e-01],\n",
       "       [ 2.18628366e-02],\n",
       "       [ 5.02494339e-01],\n",
       "       [-2.30153870e+00],\n",
       "       [ 1.12948391e+00],\n",
       "       [-2.09424782e+00],\n",
       "       [ 6.08514698e-01],\n",
       "       [ 1.01012718e+00],\n",
       "       [ 4.29526140e-01],\n",
       "       [ 7.94528240e-01],\n",
       "       [ 5.50537496e-01],\n",
       "       [ 1.14472371e+00],\n",
       "       [-4.11639163e-01],\n",
       "       [ 5.93578523e-01],\n",
       "       [-5.62305431e-01],\n",
       "       [-1.36444744e-01],\n",
       "       [ 8.64644065e-02],\n",
       "       [-2.41350300e+00],\n",
       "       [-4.22856961e-01],\n",
       "       [-3.10116774e-01],\n",
       "       [-4.43171931e-01],\n",
       "       [ 4.65672984e-02],\n",
       "       [-1.23005814e+00],\n",
       "       [ 4.22137467e-02],\n",
       "       [-1.06793987e-01],\n",
       "       [ 2.06578332e+00],\n",
       "       [-3.19801599e-01],\n",
       "       [ 1.71647264e-02],\n",
       "       [-6.91660752e-01],\n",
       "       [ 6.07501958e-02],\n",
       "       [ 7.92806866e-01],\n",
       "       [-5.11884476e-02],\n",
       "       [-1.34267579e+00],\n",
       "       [ 1.19008646e-01],\n",
       "       [-2.48634778e-01],\n",
       "       [ 1.20845633e+00],\n",
       "       [-1.89636092e+00],\n",
       "       [ 1.61336137e+00],\n",
       "       [ 1.45810824e+00],\n",
       "       [-1.39662042e+00],\n",
       "       [ 1.70459417e+00],\n",
       "       [ 1.23616403e+00],\n",
       "       [-6.87172700e-01],\n",
       "       [-1.11911540e+00],\n",
       "       [ 1.56263850e-01],\n",
       "       [-8.77281519e-01],\n",
       "       [-1.11487105e+00],\n",
       "       [ 8.70969803e-01],\n",
       "       [-1.75458969e-01],\n",
       "       [ 2.05635552e+00],\n",
       "       [ 1.81053491e+00],\n",
       "       [-9.55425262e-01],\n",
       "       [ 8.85141164e-01],\n",
       "       [ 1.96710175e+00],\n",
       "       [-1.44087602e+00],\n",
       "       [-1.94332341e+00],\n",
       "       [-1.94258918e+00],\n",
       "       [-3.84054355e-01],\n",
       "       [-2.78253447e+00],\n",
       "       [-2.23708651e+00],\n",
       "       [ 4.38166347e-01],\n",
       "       [-2.67888080e-01],\n",
       "       [-5.08457134e-01],\n",
       "       [ 8.24005618e-01],\n",
       "       [-1.85798186e+00],\n",
       "       [-4.75372875e-01],\n",
       "       [-2.03720123e+00],\n",
       "       [-5.68244809e-02],\n",
       "       [-1.98837863e-01],\n",
       "       [-1.76068856e+00],\n",
       "       [ 9.39168744e-01],\n",
       "       [ 1.12232832e+00],\n",
       "       [ 1.54335911e+00],\n",
       "       [-7.85533997e-01],\n",
       "       [ 1.55880554e+00],\n",
       "       [-1.04458938e+00],\n",
       "       [ 5.85910431e-01],\n",
       "       [ 2.62467445e-01],\n",
       "       [-1.05344713e-01],\n",
       "       [-8.77858418e-01],\n",
       "       [ 6.74711526e-01],\n",
       "       [-1.72428208e-01],\n",
       "       [-6.06524918e-02],\n",
       "       [ 8.09271010e-02],\n",
       "       [ 2.11060505e+00],\n",
       "       [-1.68405999e+00],\n",
       "       [ 1.29101580e-01],\n",
       "       [ 6.59049796e-01],\n",
       "       [-1.01745873e-01],\n",
       "       [-7.75161619e-01],\n",
       "       [-1.89148284e-03],\n",
       "       [ 1.13162939e+00],\n",
       "       [ 3.03085711e+00],\n",
       "       [ 2.48799161e-01],\n",
       "       [ 1.39984394e+00],\n",
       "       [ 2.80665077e-01],\n",
       "       [-7.61206901e-01],\n",
       "       [ 4.03491642e-01],\n",
       "       [ 1.40754000e+00],\n",
       "       [ 9.54250872e-02],\n",
       "       [ 2.18557541e+00],\n",
       "       [ 1.34048197e-01],\n",
       "       [ 4.66643267e-01],\n",
       "       [-1.74703160e-01],\n",
       "       [ 8.24584625e-01],\n",
       "       [-1.17598267e+00],\n",
       "       [ 4.61164100e-01],\n",
       "       [ 9.21450069e-01],\n",
       "       [ 8.08844360e-01],\n",
       "       [-5.17094458e-01],\n",
       "       [ 1.78975468e+00],\n",
       "       [ 6.82551407e-01],\n",
       "       [-2.14246673e+00],\n",
       "       [ 1.13376944e+00],\n",
       "       [ 6.17203110e-01],\n",
       "       [ 5.15413802e-01],\n",
       "       [-1.15985185e-01],\n",
       "       [-3.06204013e-01],\n",
       "       [ 1.16033857e+00],\n",
       "       [ 6.74396105e-01],\n",
       "       [ 1.95487808e+00],\n",
       "       [-8.59515941e-01],\n",
       "       [-7.22391905e-01],\n",
       "       [-6.11756414e-01],\n",
       "       [ 8.63345318e-01],\n",
       "       [ 3.38011697e-01],\n",
       "       [-2.22328143e-01],\n",
       "       [-9.18440038e-01],\n",
       "       [ 1.35010682e+00],\n",
       "       [ 4.92336556e-01],\n",
       "       [ 1.79215821e+00],\n",
       "       [ 5.02740882e-01],\n",
       "       [-1.80920302e-01],\n",
       "       [-4.97025792e-02],\n",
       "       [ 3.77563786e-01],\n",
       "       [-6.20000844e-01],\n",
       "       [ 5.34095368e-02],\n",
       "       [-2.49370375e-01],\n",
       "       [-4.00878192e-01],\n",
       "       [ 1.23289919e+00],\n",
       "       [-3.75284950e-01],\n",
       "       [ 1.83471763e+00],\n",
       "       [-5.28171752e-01],\n",
       "       [-2.54179868e-01],\n",
       "       [-1.77756638e+00],\n",
       "       [ 1.19891788e+00],\n",
       "       [-4.29142278e-01],\n",
       "       [-6.71246131e-01],\n",
       "       [ 5.12929820e-01],\n",
       "       [-1.90221025e-01],\n",
       "       [-5.45774168e-01],\n",
       "       [-4.98213564e-01],\n",
       "       [ 9.86335188e-01],\n",
       "       [ 1.11570180e+00],\n",
       "       [-2.28765829e-01],\n",
       "       [ 9.20615118e-01],\n",
       "       [ 1.76024923e+00],\n",
       "       [ 1.86561391e-01],\n",
       "       [ 2.13782807e+00],\n",
       "       [ 3.13547720e-01],\n",
       "       [ 7.84770651e-01],\n",
       "       [-2.36436952e-01],\n",
       "       [-7.81911683e-01],\n",
       "       [-7.01344426e-01],\n",
       "       [ 1.12341216e+00],\n",
       "       [ 2.40737092e-01],\n",
       "       [ 8.36004719e-01],\n",
       "       [-4.68673816e-01],\n",
       "       [-1.20464572e-01],\n",
       "       [-5.33020326e-01],\n",
       "       [-6.72448039e-01],\n",
       "       [-6.23530730e-01],\n",
       "       [-2.98092835e-01],\n",
       "       [-7.97269785e-01],\n",
       "       [ 3.53600971e-02],\n",
       "       [-3.84832249e-01],\n",
       "       [ 2.30094735e-01],\n",
       "       [-2.00758069e-01],\n",
       "       [-1.18771172e-01],\n",
       "       [ 2.76499305e-01],\n",
       "       [ 1.69382433e-01],\n",
       "       [-2.08894233e-01],\n",
       "       [-1.84176326e-01],\n",
       "       [-6.94693595e-01],\n",
       "       [-8.45205641e-01],\n",
       "       [-3.43853676e-01],\n",
       "       [-3.43900709e-01],\n",
       "       [-1.86569772e-01],\n",
       "       [-3.49342722e-01],\n",
       "       [-9.97026828e-01],\n",
       "       [ 1.04499441e+00],\n",
       "       [-4.13029310e-01],\n",
       "       [ 6.21803504e-01],\n",
       "       [-1.14251820e+00],\n",
       "       [-6.17362064e-01],\n",
       "       [ 5.84646610e-01],\n",
       "       [-1.95210529e+00],\n",
       "       [ 4.88518147e-01],\n",
       "       [ 8.46160648e-01],\n",
       "       [-6.93286967e-02],\n",
       "       [-4.79157099e-01],\n",
       "       [-1.00155233e-01],\n",
       "       [-1.68198840e-01],\n",
       "       [-1.10771250e+00],\n",
       "       [ 9.01590721e-01],\n",
       "       [-1.10061918e+00],\n",
       "       [ 4.36689932e-02],\n",
       "       [ 9.00855949e-01],\n",
       "       [ 4.23494354e-01],\n",
       "       [ 1.22450770e+00],\n",
       "       [-3.86955093e-02],\n",
       "       [-1.52568032e+00],\n",
       "       [-7.05840507e-01],\n",
       "       [ 1.11813340e+00],\n",
       "       [-6.83727859e-01],\n",
       "       [-1.12201873e+00],\n",
       "       [-4.47895185e-01],\n",
       "       [ 4.51122939e-01],\n",
       "       [-7.47158294e-01],\n",
       "       [-2.87307863e-01],\n",
       "       [ 1.85156417e-01],\n",
       "       [-1.02887218e-01],\n",
       "       [-1.07296862e+00],\n",
       "       [ 2.42669441e-01],\n",
       "       [-9.33914656e-01],\n",
       "       [ 1.95607890e+00],\n",
       "       [ 1.65980218e+00],\n",
       "       [ 7.77419205e-01],\n",
       "       [ 4.51615951e-01],\n",
       "       [-1.95057341e-01],\n",
       "       [-1.44411381e+00],\n",
       "       [-1.11647002e+00],\n",
       "       [ 8.54894544e-03],\n",
       "       [ 4.17302005e-01],\n",
       "       [ 1.19268607e+00],\n",
       "       [ 1.06222724e-01],\n",
       "       [-8.67787223e-01],\n",
       "       [-8.90555584e-01],\n",
       "       [ 2.05117344e+00],\n",
       "       [ 5.30355467e-01],\n",
       "       [-1.86578994e-01],\n",
       "       [ 3.19039096e-01],\n",
       "       [-6.36995647e-01],\n",
       "       [ 1.29322588e+00],\n",
       "       [ 1.20158952e-01],\n",
       "       [-1.75592564e+00],\n",
       "       [-1.19054188e-01],\n",
       "       [-2.11416392e+00],\n",
       "       [ 5.85662000e-01],\n",
       "       [ 1.12141771e+00],\n",
       "       [ 5.62761097e-01],\n",
       "       [ 1.69245460e+00],\n",
       "       [-1.42655542e+00],\n",
       "       [-6.80678141e-01],\n",
       "       [-1.53879325e+00],\n",
       "       [ 4.95211324e-01],\n",
       "       [-1.47115693e+00],\n",
       "       [-1.30572692e+00],\n",
       "       [-1.33195167e+00],\n",
       "       [ 1.21821271e-01],\n",
       "       [ 4.08900538e-01],\n",
       "       [ 8.05393424e-01],\n",
       "       [ 1.11438298e+00],\n",
       "       [ 1.76533510e+00],\n",
       "       [ 8.76168921e-01],\n",
       "       [ 1.10417433e+00],\n",
       "       [ 1.03368687e+00],\n",
       "       [-2.50644065e+00],\n",
       "       [ 5.15073614e-01],\n",
       "       [-5.93843067e-01],\n",
       "       [-2.37941936e-01],\n",
       "       [ 8.10951673e-01],\n",
       "       [ 2.52832571e+00],\n",
       "       [ 3.52494364e-01],\n",
       "       [-5.86523939e-01],\n",
       "       [-3.44987210e-01],\n",
       "       [ 4.20282204e-01],\n",
       "       [ 7.40556451e-01],\n",
       "       [ 7.95026094e-01],\n",
       "       [ 3.10272288e-01],\n",
       "       [-1.37311732e+00],\n",
       "       [ 1.09402696e-01],\n",
       "       [-1.77183179e-02],\n",
       "       [-2.06014071e+00],\n",
       "       [-2.03394449e-01],\n",
       "       [-1.87316098e+00],\n",
       "       [ 8.27974643e-01],\n",
       "       [-5.57494722e-01],\n",
       "       [-8.22467189e-01],\n",
       "       [-1.31228341e+00],\n",
       "       [ 2.85587325e-01],\n",
       "       [ 6.80069840e-01],\n",
       "       [-1.98998184e-01],\n",
       "       [-7.31127037e-02],\n",
       "       [-4.14846901e-01],\n",
       "       [-3.74438319e-01],\n",
       "       [-5.04465863e-01],\n",
       "       [-2.97361883e-01],\n",
       "       [ 1.46089238e+00],\n",
       "       [ 6.98032034e-01],\n",
       "       [ 2.82675712e-01],\n",
       "       [ 6.54580153e-01],\n",
       "       [ 3.66332015e-01],\n",
       "       [ 8.68886157e-01],\n",
       "       [ 1.62434536e+00],\n",
       "       [-2.79308500e+00],\n",
       "       [-3.31283170e-01],\n",
       "       [-5.99804531e-01],\n",
       "       [-1.40232915e+00],\n",
       "       [ 5.28879746e-01],\n",
       "       [-1.65072127e+00],\n",
       "       [-1.27255876e+00],\n",
       "       [ 3.05267040e-01],\n",
       "       [-4.18937898e-01],\n",
       "       [-3.53679249e-02],\n",
       "       [ 4.51284016e-01],\n",
       "       [-8.28627979e-01],\n",
       "       [ 3.50167159e-01],\n",
       "       [ 1.76795995e+00],\n",
       "       [-8.30171895e-01],\n",
       "       [ 7.14789597e-01],\n",
       "       [-1.23312074e+00],\n",
       "       [-4.37508983e-01],\n",
       "       [ 5.29465324e-01],\n",
       "       [ 2.34415698e-01],\n",
       "       [-1.00016919e+00],\n",
       "       [ 7.42044161e-01],\n",
       "       [ 4.51946037e-01],\n",
       "       [-8.61316361e-01],\n",
       "       [ 2.84748111e-01],\n",
       "       [-1.39649634e+00],\n",
       "       [ 3.26145467e-02],\n",
       "       [ 5.86623191e-01],\n",
       "       [ 2.01830179e-01],\n",
       "       [ 6.17985534e-01],\n",
       "       [-1.67419581e+00],\n",
       "       [ 8.53281222e-01],\n",
       "       [-1.14434139e+00],\n",
       "       [-1.11731035e+00],\n",
       "       [ 1.11584111e+00],\n",
       "       [ 9.56121704e-01],\n",
       "       [ 1.46210794e+00],\n",
       "       [ 9.20017933e-01],\n",
       "       [-1.22890226e-01],\n",
       "       [ 1.23225307e+00],\n",
       "       [-1.57915629e+00],\n",
       "       [ 1.51981682e+00],\n",
       "       [ 1.27375593e+00],\n",
       "       [-8.45080274e-02],\n",
       "       [ 1.90465871e+00],\n",
       "       [-1.08392067e-01],\n",
       "       [-6.06998398e-01],\n",
       "       [ 1.74094083e-02],\n",
       "       [-1.19926803e+00],\n",
       "       [ 2.44936865e+00],\n",
       "       [-9.97019796e-01],\n",
       "       [-6.25342001e-01],\n",
       "       [ 7.62011180e-01]])"
      ]
     },
     "execution_count": 4,
     "metadata": {},
     "output_type": "execute_result"
    }
   ],
   "source": [
    "X_reg"
   ]
  },
  {
   "cell_type": "code",
   "execution_count": 5,
   "id": "74a4588e",
   "metadata": {},
   "outputs": [
    {
     "data": {
      "text/plain": [
       "(500, 1)"
      ]
     },
     "execution_count": 5,
     "metadata": {},
     "output_type": "execute_result"
    }
   ],
   "source": [
    "X_reg.shape"
   ]
  },
  {
   "cell_type": "code",
   "execution_count": 6,
   "id": "797837c1",
   "metadata": {},
   "outputs": [
    {
     "data": {
      "text/plain": [
       "(500,)"
      ]
     },
     "execution_count": 6,
     "metadata": {},
     "output_type": "execute_result"
    }
   ],
   "source": [
    "y_reg.shape"
   ]
  },
  {
   "cell_type": "code",
   "execution_count": 7,
   "id": "942c157c",
   "metadata": {},
   "outputs": [
    {
     "data": {
      "text/plain": [
       "array([-1.83612167e+01,  8.57649265e+00,  1.93441005e+01,  1.20193586e+01,\n",
       "        9.36500569e+00, -1.99064475e+01,  3.90769696e+01,  2.66675040e+01,\n",
       "       -5.01466339e+01, -4.79174518e+01, -1.60237259e+01, -3.80503077e+01,\n",
       "        2.89266130e+01,  4.16472907e+01, -2.59222123e+01,  3.10959154e+01,\n",
       "        1.05231606e+00,  1.57032241e+01,  2.18388794e+01, -4.82042028e+01,\n",
       "       -2.75972720e+01, -7.32362093e+00, -3.28559071e+00,  3.73717929e+01,\n",
       "       -1.59076463e+01,  3.63684176e+00,  1.00740886e+01, -1.26471915e+01,\n",
       "        2.55517761e+01, -1.17657452e+01,  4.26111590e+01, -3.40620705e+01,\n",
       "        2.68314779e+01,  2.11407343e+01,  2.08579268e+01,  4.58632697e+01,\n",
       "       -3.17884475e+01,  4.64275407e+01,  6.49791236e+00, -4.78158500e+01,\n",
       "        5.44742559e+01, -5.65586517e+01, -4.49145322e-01,  3.04604909e+01,\n",
       "        9.08557878e+00,  4.56315941e+00, -1.69009354e+01,  1.87214194e+00,\n",
       "        3.34771559e+01,  4.96863901e+00,  6.98909025e-01,  3.46469570e+01,\n",
       "        1.37436223e+01, -3.02543239e+01,  3.06706137e+00,  6.98372816e+00,\n",
       "        7.89421877e+00,  3.69343390e+00,  1.63546390e+01, -2.52895589e+01,\n",
       "        1.34007311e+01,  2.33523653e+01,  2.49899146e+01, -6.11114552e+00,\n",
       "       -1.07278238e+00,  6.17941794e+00,  1.16323603e+01, -5.69850208e-01,\n",
       "       -2.57524373e+01,  1.32128593e+01, -3.12391829e+01,  6.08843058e+00,\n",
       "        8.02883310e+00, -8.82779378e-01,  1.27413423e+01,  1.91340910e+01,\n",
       "       -2.30213790e+01, -4.85932014e+01,  1.88231800e+01, -1.18117137e+01,\n",
       "        1.74019413e+01, -1.59766069e+01, -3.58988384e+01,  7.37062033e+00,\n",
       "        1.91871707e+01,  3.01346842e+01,  9.80100336e+00,  2.10728770e+00,\n",
       "       -1.57222052e+01,  1.47827993e+01, -2.39970786e+01, -6.78829048e+00,\n",
       "       -1.87312696e+01,  2.90895935e+01, -3.34474511e+01,  6.88992134e+01,\n",
       "       -3.46697536e+01, -4.36247989e+01, -4.48624688e+00,  2.89847492e+01,\n",
       "       -2.80964471e+01, -9.07561288e+00, -1.72970852e+01,  5.33565754e+01,\n",
       "        1.30258426e+01, -2.04710537e+01,  8.59403601e+00,  7.96905718e-01,\n",
       "       -6.25805029e+01,  2.90944323e+01,  1.00140889e+01, -3.51215062e+01,\n",
       "       -7.89170491e+00, -2.68185891e+01, -1.13638470e+01, -4.00836092e+00,\n",
       "       -2.26459926e+01, -8.45319619e+00, -1.37392250e+01,  1.93816814e+01,\n",
       "        2.54702178e+01, -3.66942813e+00, -3.19574039e+01, -2.62513759e+01,\n",
       "        6.48923578e+00, -3.14531470e+01,  3.20912682e+01,  4.68114497e+00,\n",
       "       -1.60570078e+01, -3.57109712e+01,  3.03744539e+01,  1.38703893e+01,\n",
       "       -1.30838810e+01, -2.18602497e+01,  9.96080389e+00, -4.37861299e+01,\n",
       "        4.35509629e+00,  1.10841492e+01,  4.99036269e+01, -1.94312699e+01,\n",
       "        8.64811339e-01,  1.18058064e+01,  4.65917882e+01,  1.22626012e+01,\n",
       "        2.39784428e+01, -5.29303132e+01,  4.26240156e+01, -1.94435205e+01,\n",
       "        1.72887491e+01,  6.65013083e+01, -2.44270249e+01,  2.98452347e+00,\n",
       "        8.85088013e+00,  4.28394142e+01, -4.11992980e+01, -9.66961333e+00,\n",
       "       -3.58879048e+01, -6.35240067e+00,  4.05475991e+01, -6.28244186e+01,\n",
       "       -2.02511401e+01,  1.02327146e+01, -2.43869343e+01, -1.36557829e+01,\n",
       "       -1.21515611e+01, -4.07612530e+01,  2.93112669e+01,  7.24325838e+01,\n",
       "        3.26700800e+01, -2.77113530e+00, -4.30417144e+01,  5.91005129e+00,\n",
       "        3.96083329e+01, -5.63211166e+00, -2.50782486e+01, -5.47273598e+00,\n",
       "        2.36814366e+01, -3.05485288e+00, -6.25838683e+01,  6.35698813e+01,\n",
       "        2.31613170e+01,  1.23696798e+01,  7.28199514e+01,  3.54524356e-01,\n",
       "       -7.96550788e+00,  2.01526318e+00, -2.34104807e+00, -3.63003593e+01,\n",
       "       -2.39688061e+01,  1.15728247e+01,  9.66545800e+00,  3.05657757e+01,\n",
       "        2.60255658e+01,  1.74799199e+00,  6.99853702e+00,  1.00274641e+02,\n",
       "       -5.94163385e+01, -4.20412367e+01, -3.22684841e+01, -2.65724837e+00,\n",
       "       -5.43554769e+01, -2.83348588e+01,  1.23351003e+01,  9.48401117e+00,\n",
       "       -3.18822883e+01,  1.24949499e+01, -3.15532661e+01, -2.76673668e+01,\n",
       "       -1.75219330e+01,  2.09867581e+01, -2.16262811e+00, -5.88001215e+01,\n",
       "        4.13996343e+01,  3.10413446e+01,  5.07093857e+01, -1.06928919e+00,\n",
       "        6.80895452e+01, -1.74265223e+01,  3.65324168e+01,  1.77850039e+00,\n",
       "       -2.95935397e+01, -2.27075050e+01,  2.17773097e+01,  1.56973220e+00,\n",
       "        1.60685950e+00,  2.53642564e+01,  5.57995912e+01, -3.33215835e+01,\n",
       "       -6.42380127e+00,  2.54842886e+01,  2.04157525e+01,  2.27674251e+00,\n",
       "       -5.51538103e-02,  4.79276870e+01,  8.33182261e+01, -1.98327235e+01,\n",
       "        3.72481819e+01,  1.10995893e+01, -4.07958403e+01,  4.29737961e+01,\n",
       "        3.04388963e+01,  2.05928623e+01,  4.75472616e+01,  1.83267935e+00,\n",
       "        1.72303135e+01,  5.42905854e+00,  2.70559676e+01, -3.10595309e+01,\n",
       "        5.99145744e+01,  7.06597730e+01, -9.99134539e+00, -3.56574981e+01,\n",
       "        4.41772813e+01,  3.24217804e+00, -2.35815361e+01,  3.94890389e+01,\n",
       "       -5.10677573e+00,  1.18273916e+01, -3.58651443e+01,  6.52279208e+00,\n",
       "        2.70045382e+01,  2.17255420e+01,  2.69694422e+01, -4.32235943e+00,\n",
       "       -3.50077006e+01, -2.88823543e+01,  2.56398468e+01,  2.55100419e+01,\n",
       "       -9.17688615e+00,  7.08705490e+00,  2.00528938e+01,  1.60932566e+01,\n",
       "        3.43735530e+01, -1.21378100e+01,  2.80466399e+01,  2.22793021e+01,\n",
       "        3.59822407e+01,  1.65353128e+01,  2.51984951e+01, -3.25403483e+01,\n",
       "       -6.89457383e+00,  6.65848935e+00, -2.58565233e+01,  6.15842601e+01,\n",
       "       -2.66603613e+01, -2.26420195e+01, -4.74003870e+01,  1.97775355e+01,\n",
       "       -1.37184719e+01, -2.33531057e+01,  1.46807569e+01, -1.17762719e+01,\n",
       "       -3.50411067e+01, -9.65791685e+00,  5.86829395e+01,  1.94665582e+01,\n",
       "       -1.31419604e+01,  3.36387431e+01,  4.04519644e+01,  9.16485543e+00,\n",
       "        3.69903888e+01, -1.52563240e+01,  1.49131076e+01,  2.77936430e+01,\n",
       "       -2.79990526e+01, -1.10103738e+01,  3.86854369e-01, -2.17903387e+01,\n",
       "        1.47152028e+01, -1.45334241e+01, -5.18069848e+01,  4.64622001e+00,\n",
       "       -3.27884748e+00, -2.59139090e+01,  9.72134300e+00, -2.53803529e+01,\n",
       "       -2.60849586e+00, -9.12769380e-02,  2.62554938e+01, -1.50344084e+01,\n",
       "       -3.21411599e+01,  6.68840842e+01, -1.59880806e+01,  1.37864673e+01,\n",
       "       -1.61722434e+01, -1.73402978e+01, -1.31353236e+01,  2.06864160e+01,\n",
       "       -4.44167055e+01,  1.74432583e+01, -1.40988214e+01, -2.07840926e+01,\n",
       "        2.17546938e+01, -3.13359342e+00,  1.85195971e+01, -6.25328904e+01,\n",
       "        1.77925340e+01, -1.54677285e+01, -4.95874818e+01,  1.06441242e+01,\n",
       "       -1.03630585e+01, -1.94675187e+01, -1.17473677e+01, -2.58568324e+01,\n",
       "       -5.73362874e+00, -1.74562075e+00,  2.73126954e+01, -6.62063988e+00,\n",
       "       -7.64007379e-01,  5.59762171e+01, -1.88613311e+01,  3.95940470e+01,\n",
       "       -2.84336033e+01, -3.11274693e+01,  2.29581031e-01,  4.89940580e+01,\n",
       "       -1.11017335e+01, -4.82388149e+01, -7.44015421e+00, -1.20224398e+01,\n",
       "        9.75990413e-01,  2.23105355e+00,  2.56159608e+01,  2.20674246e+01,\n",
       "       -4.84361692e+01,  1.43775076e+00, -1.90212880e+01,  2.79690379e+01,\n",
       "        3.65522482e+01,  6.31479722e+01,  2.74902893e+01, -1.29663747e+01,\n",
       "       -2.92540643e+01, -4.74784484e+01, -2.29686429e+00,  5.26707459e+00,\n",
       "        1.88515898e+01,  5.35272005e+00, -4.18851824e+01, -1.88884259e+01,\n",
       "        4.86647519e+01,  2.71441743e+01, -1.79152317e+01,  9.04919261e+00,\n",
       "       -5.23411824e+01,  3.28552257e+01, -3.49134472e+01, -2.88335383e+01,\n",
       "        1.74072412e+00, -2.21919363e+01, -3.98249975e+00,  1.69364758e+00,\n",
       "        4.73941901e+00,  4.71495426e+00,  1.58108332e+01, -4.87081369e+00,\n",
       "       -4.11011054e+01,  1.81006247e+01, -3.81056014e+01, -1.60219919e+01,\n",
       "       -6.74070211e+01,  2.10283666e+00,  2.67485421e+01,  3.11958806e+01,\n",
       "       -2.40510317e+00,  7.24398599e+01,  1.07755503e+01,  5.29940638e+01,\n",
       "        3.89784765e+01, -4.43315609e+01, -1.14281648e+00, -4.51191957e+00,\n",
       "       -3.51934318e+01,  7.80283186e+01,  7.46111129e+01,  1.30465238e+01,\n",
       "       -2.65931409e+01, -2.24313085e+01, -3.32938237e+00,  8.60972721e+00,\n",
       "        2.66565524e+01,  1.49677507e+01, -8.44151849e+00, -6.03754001e+00,\n",
       "       -2.00167225e+01, -3.33781113e+01, -1.13545060e+01, -4.77783111e+00,\n",
       "        1.82460334e+01, -4.98824025e+00, -8.07785371e+00,  7.35264252e-01,\n",
       "        4.68302391e+01,  3.25753185e+01, -5.49537944e+00, -1.83463085e+01,\n",
       "       -1.22576759e+01,  9.43249165e+00,  3.47410536e+00,  2.55759849e+01,\n",
       "        2.29723002e+01,  1.51228681e+01, -2.63772348e+01,  3.47622798e+01,\n",
       "       -3.58357305e+00,  3.47901831e+01,  3.38390522e+01, -9.04995065e+01,\n",
       "       -1.22002848e+01,  3.71395846e+01, -1.93803312e+01,  5.50592331e+00,\n",
       "       -2.61038422e+01, -7.61771344e+01,  4.59045757e+01, -4.01164534e+01,\n",
       "        1.40598917e+01,  2.86272362e+01, -1.80845257e+01,  4.66333578e+01,\n",
       "        1.31621986e+01, -2.84201890e+01,  2.11827368e+00, -1.04745712e+01,\n",
       "       -3.63995572e+01,  2.89193800e+00, -1.52339330e+01, -3.68025412e+01,\n",
       "        3.55949161e+01,  2.32103928e+01, -2.78755260e+01,  1.64315349e+01,\n",
       "       -4.31359868e+01, -2.84424483e+01,  1.81953930e+01,  3.94269219e+01,\n",
       "        2.46532563e+01, -4.22684299e+01,  3.92956340e+01, -4.41039008e+01,\n",
       "       -3.72696560e+01,  3.70194845e+00,  2.12582608e+01,  1.68374469e+01,\n",
       "        2.89657816e+01, -1.39102802e+01,  3.04826036e+01, -6.63079233e+01,\n",
       "        3.12379434e+01,  9.96407681e+00, -5.43037899e+00,  1.73975850e+01,\n",
       "       -8.44945396e+00, -3.06406327e+01, -4.75934415e+01, -2.88538949e+01,\n",
       "        8.12543322e+01, -4.16279358e+00, -3.89466283e+01,  2.36434115e+01])"
      ]
     },
     "execution_count": 7,
     "metadata": {},
     "output_type": "execute_result"
    }
   ],
   "source": [
    "y_reg"
   ]
  },
  {
   "cell_type": "code",
   "execution_count": 8,
   "id": "a505e05f",
   "metadata": {},
   "outputs": [],
   "source": [
    "import matplotlib.pyplot as plt"
   ]
  },
  {
   "cell_type": "code",
   "execution_count": 23,
   "id": "52ef9803",
   "metadata": {},
   "outputs": [
    {
     "data": {
      "text/plain": [
       "[<matplotlib.lines.Line2D at 0x7f06151b68b0>]"
      ]
     },
     "execution_count": 23,
     "metadata": {},
     "output_type": "execute_result"
    },
    {
     "data": {
      "image/png": "[encoded data removed]",
      "text/plain": [
       "<Figure size 432x288 with 1 Axes>"
      ]
     },
     "metadata": {
      "needs_background": "light"
     },
     "output_type": "display_data"
    }
   ],
   "source": [
    "plt.plot(X_reg[:, 0], y_reg, \".\")"
   ]
  },
  {
   "cell_type": "code",
   "execution_count": 15,
   "id": "8bcad039",
   "metadata": {},
   "outputs": [],
   "source": [
    "?plt.plot"
   ]
  },
  {
   "cell_type": "code",
   "execution_count": 24,
   "id": "de1effe9",
   "metadata": {},
   "outputs": [],
   "source": [
    "from sklearn.linear_model import LinearRegression"
   ]
  },
  {
   "cell_type": "code",
   "execution_count": 26,
   "id": "7e952d93",
   "metadata": {},
   "outputs": [],
   "source": [
    "from sklearn.model_selection import train_test_split"
   ]
  },
  {
   "cell_type": "code",
   "execution_count": 27,
   "id": "1238e606",
   "metadata": {},
   "outputs": [],
   "source": [
    "X_reg_train, X_reg_test, y_reg_train, y_reg_test = train_test_split(\n",
    "    X_reg, y_reg, random_state=42)"
   ]
  },
  {
   "cell_type": "code",
   "execution_count": 33,
   "id": "b5a649c3",
   "metadata": {},
   "outputs": [
    {
     "data": {
      "text/plain": [
       "(500, 1)"
      ]
     },
     "execution_count": 33,
     "metadata": {},
     "output_type": "execute_result"
    }
   ],
   "source": [
    "X_reg.shape"
   ]
  },
  {
   "cell_type": "code",
   "execution_count": 35,
   "id": "1fec5a2f",
   "metadata": {},
   "outputs": [
    {
     "data": {
      "text/plain": [
       "(500,)"
      ]
     },
     "execution_count": 35,
     "metadata": {},
     "output_type": "execute_result"
    }
   ],
   "source": [
    "y_reg.shape"
   ]
  },
  {
   "cell_type": "code",
   "execution_count": 36,
   "id": "957b1042",
   "metadata": {},
   "outputs": [
    {
     "data": {
      "text/plain": [
       "numpy.ndarray"
      ]
     },
     "execution_count": 36,
     "metadata": {},
     "output_type": "execute_result"
    }
   ],
   "source": [
    "type(X_reg)"
   ]
  },
  {
   "cell_type": "code",
   "execution_count": 37,
   "id": "36587616",
   "metadata": {},
   "outputs": [
    {
     "data": {
      "text/plain": [
       "numpy.ndarray"
      ]
     },
     "execution_count": 37,
     "metadata": {},
     "output_type": "execute_result"
    }
   ],
   "source": [
    "type(y_reg)"
   ]
  },
  {
   "cell_type": "code",
   "execution_count": 38,
   "id": "2888c338",
   "metadata": {},
   "outputs": [],
   "source": [
    "linear_regession = LinearRegression()"
   ]
  },
  {
   "cell_type": "code",
   "execution_count": 40,
   "id": "12109a64",
   "metadata": {},
   "outputs": [
    {
     "data": {
      "text/plain": [
       "LinearRegression()"
      ]
     },
     "execution_count": 40,
     "metadata": {},
     "output_type": "execute_result"
    }
   ],
   "source": [
    "linear_regession.fit(X_reg_train, y_reg_train)"
   ]
  },
  {
   "cell_type": "code",
   "execution_count": 41,
   "id": "80fc7d92",
   "metadata": {},
   "outputs": [
    {
     "data": {
      "text/plain": [
       "array([22.89325901])"
      ]
     },
     "execution_count": 41,
     "metadata": {},
     "output_type": "execute_result"
    }
   ],
   "source": [
    "linear_regession.coef_"
   ]
  },
  {
   "cell_type": "code",
   "execution_count": 42,
   "id": "b11538b0",
   "metadata": {},
   "outputs": [
    {
     "data": {
      "text/plain": [
       "0.7354944625215407"
      ]
     },
     "execution_count": 42,
     "metadata": {},
     "output_type": "execute_result"
    }
   ],
   "source": [
    "linear_regession.intercept_"
   ]
  },
  {
   "cell_type": "code",
   "execution_count": 44,
   "id": "09e6960b",
   "metadata": {},
   "outputs": [
    {
     "data": {
      "text/plain": [
       "[<matplotlib.lines.Line2D at 0x7f0613908e20>]"
      ]
     },
     "execution_count": 44,
     "metadata": {},
     "output_type": "execute_result"
    },
    {
     "data": {
      "image/png": "[encoded data removed]",
      "text/plain": [
       "<Figure size 432x288 with 1 Axes>"
      ]
     },
     "metadata": {
      "needs_background": "light"
     },
     "output_type": "display_data"
    }
   ],
   "source": [
    "plt.plot(X_reg_train, y_reg_train, \".\")\n",
    "y_lm_predicted = linear_regession.predict(X_reg_train)\n",
    "plt.plot(X_reg_train, y_lm_predicted)"
   ]
  },
  {
   "cell_type": "code",
   "execution_count": 45,
   "id": "10efb618",
   "metadata": {},
   "outputs": [
    {
     "data": {
      "text/plain": [
       "0.4485657744188245"
      ]
     },
     "execution_count": 45,
     "metadata": {},
     "output_type": "execute_result"
    }
   ],
   "source": [
    "linear_regession.score(X_reg_test, y_reg_test)"
   ]
  },
  {
   "cell_type": "code",
   "execution_count": 47,
   "id": "4ee3aef1",
   "metadata": {},
   "outputs": [],
   "source": [
    "? linear_regession.score"
   ]
  },
  {
   "cell_type": "code",
   "execution_count": 48,
   "id": "468ad80f",
   "metadata": {},
   "outputs": [],
   "source": [
    "from sklearn.svm import SVR"
   ]
  },
  {
   "cell_type": "code",
   "execution_count": 49,
   "id": "aba9e4ef",
   "metadata": {},
   "outputs": [],
   "source": [
    "? SVR"
   ]
  },
  {
   "cell_type": "code",
   "execution_count": 58,
   "id": "aacf1d68",
   "metadata": {},
   "outputs": [],
   "source": [
    "svr_reg = SVR(kernel=\"rbf\")"
   ]
  },
  {
   "cell_type": "code",
   "execution_count": 59,
   "id": "ecd4dee6",
   "metadata": {},
   "outputs": [
    {
     "data": {
      "text/plain": [
       "SVR()"
      ]
     },
     "execution_count": 59,
     "metadata": {},
     "output_type": "execute_result"
    }
   ],
   "source": [
    "svr_reg.fit(X_reg_train, y_reg_train)"
   ]
  },
  {
   "cell_type": "code",
   "execution_count": 60,
   "id": "81f6e822",
   "metadata": {},
   "outputs": [
    {
     "data": {
      "text/plain": [
       "[<matplotlib.lines.Line2D at 0x7f06139afd90>]"
      ]
     },
     "execution_count": 60,
     "metadata": {},
     "output_type": "execute_result"
    },
    {
     "data": {
      "image/png": "[encoded data removed]",
      "text/plain": [
       "<Figure size 432x288 with 1 Axes>"
      ]
     },
     "metadata": {
      "needs_background": "light"
     },
     "output_type": "display_data"
    }
   ],
   "source": [
    "plt.plot(X_reg_train, y_reg_train, \".\")\n",
    "y_svm_predicted = svr_reg.predict(X_reg_train)\n",
    "plt.plot(X_reg_train, y_svm_predicted, \".\")"
   ]
  },
  {
   "cell_type": "code",
   "execution_count": null,
   "id": "85cccd92",
   "metadata": {},
   "outputs": [],
   "source": []
  }
 ],
 "metadata": {
  "kernelspec": {
   "display_name": "Python 3 (ipykernel)",
   "language": "python",
   "name": "python3"
  },
  "language_info": {
   "codemirror_mode": {
    "name": "ipython",
    "version": 3
   },
   "file_extension": ".py",
   "mimetype": "text/x-python",
   "name": "python",
   "nbconvert_exporter": "python",
   "pygments_lexer": "ipython3",
   "version": "3.9.15"
  }
 },
 "nbformat": 4,
 "nbformat_minor": 5
}
